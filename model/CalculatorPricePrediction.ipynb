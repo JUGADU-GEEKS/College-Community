{
  "nbformat": 4,
  "nbformat_minor": 0,
  "metadata": {
    "colab": {
      "provenance": []
    },
    "kernelspec": {
      "name": "python3",
      "display_name": "Python 3"
    },
    "language_info": {
      "name": "python"
    }
  },
  "cells": [
    {
      "cell_type": "code",
      "execution_count": 1,
      "metadata": {
        "id": "am-eW7TeVHQx"
      },
      "outputs": [],
      "source": [
        "import pandas as pd\n",
        "import numpy as np\n",
        "import matplotlib.pyplot as plt\n",
        "import seaborn as sns\n",
        "import warnings\n",
        "warnings.filterwarnings('ignore')"
      ]
    },
    {
      "cell_type": "code",
      "source": [
        "df = pd.read_csv('data.csv')\n",
        "print(df)"
      ],
      "metadata": {
        "colab": {
          "base_uri": "https://localhost:8080/"
        },
        "id": "tgfWJE0EVWpU",
        "outputId": "ccde219e-9cc2-42c6-f693-9822538cc042"
      },
      "execution_count": 3,
      "outputs": [
        {
          "output_type": "stream",
          "name": "stdout",
          "text": [
            "         Model     Condition  Months Old  Demand Score  Price (INR)\n",
            "0     fx-991MS      Like New          27           8.6        430.0\n",
            "1     fx-991MS           New          33           7.8        340.0\n",
            "2     fx-570ES  Heavily Used          12           6.2        230.0\n",
            "3     fx-991MS           New          18           6.6        370.0\n",
            "4     fx-991MS      Like New           5           5.3        400.0\n",
            "...        ...           ...         ...           ...          ...\n",
            "1995  fx-991MS           New          13           8.8        400.0\n",
            "1996  fx-570ES  Heavily Used           4           8.5        210.0\n",
            "1997  fx-991MS      Like New          27           6.9        360.0\n",
            "1998  fx-991MS  Heavily Used          26           5.8        150.0\n",
            "1999  fx-991MS           New          40           7.7        510.0\n",
            "\n",
            "[2000 rows x 5 columns]\n"
          ]
        }
      ]
    },
    {
      "cell_type": "code",
      "source": [
        "df.info()\n"
      ],
      "metadata": {
        "colab": {
          "base_uri": "https://localhost:8080/"
        },
        "id": "ruzoBSgkVaA0",
        "outputId": "caebd935-efac-4362-a8cd-68d92bfeb514"
      },
      "execution_count": 4,
      "outputs": [
        {
          "output_type": "stream",
          "name": "stdout",
          "text": [
            "<class 'pandas.core.frame.DataFrame'>\n",
            "RangeIndex: 2000 entries, 0 to 1999\n",
            "Data columns (total 5 columns):\n",
            " #   Column        Non-Null Count  Dtype  \n",
            "---  ------        --------------  -----  \n",
            " 0   Model         2000 non-null   object \n",
            " 1   Condition     2000 non-null   object \n",
            " 2   Months Old    2000 non-null   int64  \n",
            " 3   Demand Score  2000 non-null   float64\n",
            " 4   Price (INR)   2000 non-null   float64\n",
            "dtypes: float64(2), int64(1), object(2)\n",
            "memory usage: 78.3+ KB\n"
          ]
        }
      ]
    },
    {
      "cell_type": "code",
      "source": [
        "import pandas as pd\n",
        "from sklearn.model_selection import train_test_split\n",
        "X = df.drop(\"Price (INR)\", axis=1)  # Features\n",
        "y = df[\"Price (INR)\"]  # Target variable\n",
        "\n",
        "# Step 1: Split into Train (80%) and Test+Validation (20%)\n",
        "X_train, X_temp, y_train, y_temp = train_test_split(X, y, test_size=0.2, random_state=42)\n",
        "\n",
        "# Step 2: Split X_temp into Test (10%) and Validation (10%)\n",
        "X_test, X_val, y_test, y_val = train_test_split(X_temp, y_temp, test_size=0.5, random_state=42)\n",
        "\n",
        "# Print dataset shapes\n",
        "print(f\"Training Set: {X_train.shape}, {y_train.shape}\")\n",
        "print(f\"Validation Set: {X_val.shape}, {y_val.shape}\")\n",
        "print(f\"Test Set: {X_test.shape}, {y_test.shape}\")"
      ],
      "metadata": {
        "colab": {
          "base_uri": "https://localhost:8080/"
        },
        "id": "z0QdJT4NVinE",
        "outputId": "d35d3831-4861-41c7-8808-40f2e903bbab"
      },
      "execution_count": 5,
      "outputs": [
        {
          "output_type": "stream",
          "name": "stdout",
          "text": [
            "Training Set: (1600, 4), (1600,)\n",
            "Validation Set: (200, 4), (200,)\n",
            "Test Set: (200, 4), (200,)\n"
          ]
        }
      ]
    },
    {
      "cell_type": "code",
      "source": [
        "X_train\n",
        "numerical_inputs = X_train.select_dtypes(include=['int64', 'float64'])\n",
        "categorical_inputs = X_train.select_dtypes(include=['object'])\n",
        "print(numerical_inputs)\n",
        "print(categorical_inputs)"
      ],
      "metadata": {
        "colab": {
          "base_uri": "https://localhost:8080/"
        },
        "id": "I4_ROaZlWAqm",
        "outputId": "387eefaf-7476-4201-d524-cc01cca52120"
      },
      "execution_count": 10,
      "outputs": [
        {
          "output_type": "stream",
          "name": "stdout",
          "text": [
            "      Months Old  Demand Score\n",
            "968           41           7.4\n",
            "240            0           8.9\n",
            "819           15           8.6\n",
            "692           16           9.1\n",
            "420            0           6.2\n",
            "...          ...           ...\n",
            "1130          27           7.0\n",
            "1294          15           7.7\n",
            "860           46           5.3\n",
            "1459          30           8.5\n",
            "1126           2           8.0\n",
            "\n",
            "[1600 rows x 2 columns]\n",
            "         Model     Condition\n",
            "968    fx-82MS           New\n",
            "240    fx-82MS      Like New\n",
            "819   fx-570ES  Heavily Used\n",
            "692   fx-570ES          Used\n",
            "420    fx-82MS           New\n",
            "...        ...           ...\n",
            "1130  fx-570ES      Like New\n",
            "1294  fx-570ES  Heavily Used\n",
            "860    fx-82MS  Heavily Used\n",
            "1459   fx-82MS      Like New\n",
            "1126  fx-570ES           New\n",
            "\n",
            "[1600 rows x 2 columns]\n"
          ]
        }
      ]
    },
    {
      "cell_type": "code",
      "source": [
        "import pandas as pd\n",
        "from sklearn.model_selection import train_test_split\n",
        "from sklearn.preprocessing import MinMaxScaler\n",
        "\n",
        "# Load dataset\n",
        "df = pd.read_csv(\"data.csv\")\n",
        "\n",
        "# Define features and target\n",
        "X = df.drop(\"Price (INR)\", axis=1)  # Features\n",
        "y = df[\"Price (INR)\"]  # Target variable\n",
        "\n",
        "# Convert categorical features into numerical using one-hot encoding (without dropping categories)\n",
        "X = pd.get_dummies(X, columns=[\"Model\", \"Condition\"], drop_first=False)\n",
        "\n",
        "# Split dataset into Train (80%) and Test+Validation (20%)\n",
        "X_train, X_temp, y_train, y_temp = train_test_split(X, y, test_size=0.2, random_state=42)\n",
        "\n",
        "# Split X_temp into Test (10%) and Validation (10%)\n",
        "X_test, X_val, y_test, y_val = train_test_split(X_temp, y_temp, test_size=0.5, random_state=42)\n",
        "\n",
        "# Initialize MinMaxScaler\n",
        "scaler = MinMaxScaler()\n",
        "\n",
        "# Fit only on the training set\n",
        "X_train_scaled = scaler.fit_transform(X_train)\n",
        "\n",
        "# Transform validation and test sets using the fitted scaler\n",
        "X_val_scaled = scaler.transform(X_val)\n",
        "X_test_scaled = scaler.transform(X_test)\n",
        "\n",
        "# Convert back to DataFrame (optional)\n",
        "X_train_scaled = pd.DataFrame(X_train_scaled, columns=X_train.columns)\n",
        "X_val_scaled = pd.DataFrame(X_val_scaled, columns=X_val.columns)\n",
        "X_test_scaled = pd.DataFrame(X_test_scaled, columns=X_test.columns)\n",
        "\n",
        "# Print scaled datasets\n",
        "print(f\"Training Set:\\n{X_train_scaled.head()}\\n\")\n",
        "print(f\"Validation Set:\\n{X_val_scaled.head()}\\n\")\n",
        "print(f\"Test Set:\\n{X_test_scaled.head()}\\n\")\n"
      ],
      "metadata": {
        "colab": {
          "base_uri": "https://localhost:8080/"
        },
        "id": "UeW-koWsWLhX",
        "outputId": "371c03b4-21d5-4b4e-b911-2c60fb2e1a79"
      },
      "execution_count": 50,
      "outputs": [
        {
          "output_type": "stream",
          "name": "stdout",
          "text": [
            "Training Set:\n",
            "   Months Old  Demand Score  Model_fx-570ES  Model_fx-82MS  Model_fx-991MS  \\\n",
            "0    0.854167      0.533333             0.0            1.0             0.0   \n",
            "1    0.000000      0.866667             0.0            1.0             0.0   \n",
            "2    0.312500      0.800000             1.0            0.0             0.0   \n",
            "3    0.333333      0.911111             1.0            0.0             0.0   \n",
            "4    0.000000      0.266667             0.0            1.0             0.0   \n",
            "\n",
            "   Condition_Heavily Used  Condition_Like New  Condition_New  Condition_Used  \n",
            "0                     0.0                 0.0            1.0             0.0  \n",
            "1                     0.0                 1.0            0.0             0.0  \n",
            "2                     1.0                 0.0            0.0             0.0  \n",
            "3                     0.0                 0.0            0.0             1.0  \n",
            "4                     0.0                 0.0            1.0             0.0  \n",
            "\n",
            "Validation Set:\n",
            "   Months Old  Demand Score  Model_fx-570ES  Model_fx-82MS  Model_fx-991MS  \\\n",
            "0    0.229167      0.866667             0.0            0.0             1.0   \n",
            "1    0.291667      0.288889             0.0            1.0             0.0   \n",
            "2    0.687500      0.600000             0.0            1.0             0.0   \n",
            "3    0.812500      0.777778             1.0            0.0             0.0   \n",
            "4    0.187500      0.533333             1.0            0.0             0.0   \n",
            "\n",
            "   Condition_Heavily Used  Condition_Like New  Condition_New  Condition_Used  \n",
            "0                     0.0                 0.0            0.0             1.0  \n",
            "1                     0.0                 0.0            1.0             0.0  \n",
            "2                     0.0                 0.0            0.0             1.0  \n",
            "3                     0.0                 1.0            0.0             0.0  \n",
            "4                     1.0                 0.0            0.0             0.0  \n",
            "\n",
            "Test Set:\n",
            "   Months Old  Demand Score  Model_fx-570ES  Model_fx-82MS  Model_fx-991MS  \\\n",
            "0    0.395833      0.800000             0.0            1.0             0.0   \n",
            "1    1.000000      0.711111             0.0            0.0             1.0   \n",
            "2    0.062500      0.400000             1.0            0.0             0.0   \n",
            "3    0.583333      0.666667             1.0            0.0             0.0   \n",
            "4    0.375000      0.422222             1.0            0.0             0.0   \n",
            "\n",
            "   Condition_Heavily Used  Condition_Like New  Condition_New  Condition_Used  \n",
            "0                     0.0                 0.0            0.0             1.0  \n",
            "1                     0.0                 0.0            1.0             0.0  \n",
            "2                     0.0                 0.0            1.0             0.0  \n",
            "3                     0.0                 0.0            0.0             1.0  \n",
            "4                     1.0                 0.0            0.0             0.0  \n",
            "\n"
          ]
        }
      ]
    },
    {
      "cell_type": "code",
      "source": [
        "from sklearn.ensemble import RandomForestRegressor\n",
        "from xgboost import XGBRegressor\n",
        "from sklearn.linear_model import LinearRegression\n",
        "from sklearn.metrics import r2_score\n"
      ],
      "metadata": {
        "id": "fkmeujj1WmUo"
      },
      "execution_count": 51,
      "outputs": []
    },
    {
      "cell_type": "code",
      "source": [
        "# Train Random Forest Regressor\n",
        "rf_model = RandomForestRegressor(n_estimators=300,  # More trees for stability\n",
        "    max_depth=7,  # Control overfitting\n",
        "    min_samples_split=10,  # Avoid overfitting\n",
        "    min_samples_leaf=3,  # Avoid deep trees\n",
        "    random_state=42)\n",
        "rf_model.fit(X_train_scaled, y_train)\n",
        "rf_pred = rf_model.predict(X_test_scaled)\n",
        "\n",
        "# Train XGBoost Regressor\n",
        "xgb_model = XGBRegressor(n_estimators=75,  # More boosting rounds\n",
        "    max_depth=7,  # Slightly deeper trees\n",
        "    learning_rate=0.03,  # Lower for better generalization\n",
        "    subsample=0.85,  # Reduce overfitting\n",
        "    colsample_bytree=0.8,\n",
        "    random_state=42)\n",
        "xgb_model.fit(X_train_scaled, y_train)\n",
        "xgb_pred = xgb_model.predict(X_test_scaled)\n",
        "\n",
        "# Train Linear Regression\n",
        "lr_model = LinearRegression()\n",
        "lr_model.fit(X_train_scaled, y_train)\n",
        "lr_pred = lr_model.predict(X_test_scaled)\n",
        "\n",
        "# Evaluate models using R² Score\n",
        "rf_accuracy = r2_score(y_test, rf_pred)\n",
        "xgb_accuracy = r2_score(y_test, xgb_pred)\n",
        "lr_accuracy = r2_score(y_test, lr_pred)\n",
        "\n",
        "# Print accuracies\n",
        "print(f\"Random Forest R² Score: {rf_accuracy:.4f}\")\n",
        "print(f\"XGBoost R² Score: {xgb_accuracy:.4f}\")\n",
        "print(f\"Linear Regression R² Score: {lr_accuracy:.4f}\")"
      ],
      "metadata": {
        "colab": {
          "base_uri": "https://localhost:8080/"
        },
        "id": "EyRzCUlkYTdA",
        "outputId": "bf11ab9e-3a1d-4cbe-e5d9-1ef976d28e54"
      },
      "execution_count": 52,
      "outputs": [
        {
          "output_type": "stream",
          "name": "stdout",
          "text": [
            "Random Forest R² Score: 0.7473\n",
            "XGBoost R² Score: 0.7504\n",
            "Linear Regression R² Score: 0.7338\n"
          ]
        }
      ]
    },
    {
      "cell_type": "code",
      "source": [
        "import matplotlib.pyplot as plt\n",
        "import seaborn as sns\n",
        "\n",
        "# Get feature importance from Random Forest\n",
        "feature_importances = pd.Series(rf_model.feature_importances_, index=X_train.columns)\n",
        "\n",
        "# Plot feature importance\n",
        "plt.figure(figsize=(10, 5))\n",
        "sns.barplot(x=feature_importances.values, y=feature_importances.index)\n",
        "plt.title(\"Feature Importance in Random Forest\")\n",
        "plt.show()\n"
      ],
      "metadata": {
        "colab": {
          "base_uri": "https://localhost:8080/",
          "height": 468
        },
        "id": "4-gTE1N7YZvg",
        "outputId": "2d4faf95-aef6-4157-f297-4b69b9389516"
      },
      "execution_count": 53,
      "outputs": [
        {
          "output_type": "display_data",
          "data": {
            "text/plain": [
              "<Figure size 1000x500 with 1 Axes>"
            ],
            "image/png": "[encoded data removed]"
          },
          "metadata": {}
        }
      ]
    },
    {
      "cell_type": "code",
      "source": [
        "X_train.columns"
      ],
      "metadata": {
        "colab": {
          "base_uri": "https://localhost:8080/"
        },
        "id": "Pf01wwP4ar5a",
        "outputId": "731595c3-ff9c-48da-c899-a02cf5ad2a28"
      },
      "execution_count": 54,
      "outputs": [
        {
          "output_type": "execute_result",
          "data": {
            "text/plain": [
              "Index(['Months Old', 'Demand Score', 'Model_fx-570ES', 'Model_fx-82MS',\n",
              "       'Model_fx-991MS', 'Condition_Heavily Used', 'Condition_Like New',\n",
              "       'Condition_New', 'Condition_Used'],\n",
              "      dtype='object')"
            ]
          },
          "metadata": {},
          "execution_count": 54
        }
      ]
    },
    {
      "cell_type": "code",
      "source": [
        "xgb_model.predict([[1, 0, 0, 1, 0, 1, 0, 0, 0]])\n"
      ],
      "metadata": {
        "colab": {
          "base_uri": "https://localhost:8080/"
        },
        "id": "gjdv4ZlXcCF_",
        "outputId": "51ce8d04-9afe-42dd-e080-3df064807052"
      },
      "execution_count": 68,
      "outputs": [
        {
          "output_type": "execute_result",
          "data": {
            "text/plain": [
              "array([142.15622], dtype=float32)"
            ]
          },
          "metadata": {},
          "execution_count": 68
        }
      ]
    },
    {
      "cell_type": "code",
      "source": [
        "import joblib\n",
        "calculator={\n",
        "    'model': xgb_model,\n",
        "    'final_cols': X_train.columns.tolist()\n",
        "}\n",
        "joblib.dump(calculator, 'calculatorModel.joblib')"
      ],
      "metadata": {
        "colab": {
          "base_uri": "https://localhost:8080/"
        },
        "id": "YScLYD8KcNAg",
        "outputId": "70231965-be5c-42f4-9b4a-6892291031cc"
      },
      "execution_count": 69,
      "outputs": [
        {
          "output_type": "execute_result",
          "data": {
            "text/plain": [
              "['calculatorModel.joblib']"
            ]
          },
          "metadata": {},
          "execution_count": 69
        }
      ]
    },
    {
      "cell_type": "code",
      "source": [],
      "metadata": {
        "id": "SC22dioTdt4X"
      },
      "execution_count": null,
      "outputs": []
    }
  ]
}